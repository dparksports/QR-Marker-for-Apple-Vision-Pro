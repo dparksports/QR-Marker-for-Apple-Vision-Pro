{
 "cells": [
  {
   "cell_type": "markdown",
   "metadata": {},
   "source": []
  },
  {
   "cell_type": "code",
   "execution_count": 1,
   "metadata": {},
   "outputs": [],
   "source": [
    "import cv2\n",
    "import zxingcpp\n",
    "from PIL import Image\n",
    "# import matplotlib.pyplot as plt\n",
    "# %matplotlib inline\n"
   ]
  },
  {
   "cell_type": "code",
   "execution_count": 2,
   "metadata": {},
   "outputs": [
    {
     "data": {
      "text/plain": [
       "2500"
      ]
     },
     "execution_count": 2,
     "metadata": {},
     "output_type": "execute_result"
    }
   ],
   "source": [
    "words = open('names.txt', 'r').read()\n",
    "trimmed = words[:2500]\n",
    "len(trimmed)"
   ]
  },
  {
   "cell_type": "code",
   "execution_count": 2,
   "metadata": {},
   "outputs": [
    {
     "data": {
      "text/plain": [
       "2597"
      ]
     },
     "execution_count": 2,
     "metadata": {},
     "output_type": "execute_result"
    }
   ],
   "source": [
    "words = open('opencv_camera.py', 'r').read()\n",
    "trimmed = words\n",
    "len(trimmed)"
   ]
  },
  {
   "cell_type": "code",
   "execution_count": 4,
   "metadata": {},
   "outputs": [
    {
     "name": "stdout",
     "output_type": "stream",
     "text": [
      "(2048, 2048)\n"
     ]
    }
   ],
   "source": [
    "img = zxingcpp.write_barcode(zxingcpp.BarcodeFormat.QRCode, trimmed, width=2048, height=2048)\n",
    "print(img.shape)\n",
    "img = Image.fromarray(img, \"L\")\n",
    "# plt.imshow(img)\n",
    "img.save(\"1024cv.png\")"
   ]
  },
  {
   "cell_type": "code",
   "execution_count": 21,
   "metadata": {},
   "outputs": [
    {
     "data": {
      "text/plain": [
       "('56c02ca2dc93ab8c85ab256e50094055d5e29cf2deafac83858d9f0229a36326', 2500)"
      ]
     },
     "execution_count": 21,
     "metadata": {},
     "output_type": "execute_result"
    }
   ],
   "source": [
    "strs = []\n",
    "img = cv2.imread(\"1024.png\")\n",
    "codes = zxingcpp.read_barcodes(img)\n",
    "for code in codes:\n",
    "    strs.append(code.text)\n",
    "\n",
    "restored = \"\".join(strs)\n",
    "hashlib.sha256(restored.encode()).hexdigest(), len(restored)"
   ]
  },
  {
   "cell_type": "code",
   "execution_count": 25,
   "metadata": {},
   "outputs": [
    {
     "data": {
      "text/plain": [
       "('13e4660d6fae38f415daf962acc69deda062a87a9b74d55a9fbdac7a45021c9b', 1751)"
      ]
     },
     "execution_count": 25,
     "metadata": {},
     "output_type": "execute_result"
    }
   ],
   "source": [
    "hashlib.sha256(trimmed.encode()).hexdigest(), len(trimmed)"
   ]
  },
  {
   "cell_type": "code",
   "execution_count": 17,
   "metadata": {},
   "outputs": [
    {
     "data": {
      "text/plain": [
       "'0e1c4e0208dc16d6649a7a296f87adb62e8801ce92540aa97566585c5de91173'"
      ]
     },
     "execution_count": 17,
     "metadata": {},
     "output_type": "execute_result"
    }
   ],
   "source": [
    "import hashlib\n",
    "bytes = open(\"1024.png\", \"br\").read()\n",
    "hashlib.sha256(bytes).hexdigest()"
   ]
  },
  {
   "cell_type": "code",
   "execution_count": null,
   "metadata": {},
   "outputs": [],
   "source": []
  }
 ],
 "metadata": {
  "kernelspec": {
   "display_name": "torch1131",
   "language": "python",
   "name": "python3"
  },
  "language_info": {
   "codemirror_mode": {
    "name": "ipython",
    "version": 3
   },
   "file_extension": ".py",
   "mimetype": "text/x-python",
   "name": "python",
   "nbconvert_exporter": "python",
   "pygments_lexer": "ipython3",
   "version": "3.10.9"
  },
  "orig_nbformat": 4
 },
 "nbformat": 4,
 "nbformat_minor": 2
}
